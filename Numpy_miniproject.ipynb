{
  "nbformat": 4,
  "nbformat_minor": 0,
  "metadata": {
    "colab": {
      "name": "Numpy_miniproject.ipynb",
      "provenance": []
    },
    "kernelspec": {
      "name": "python3",
      "display_name": "Python 3"
    },
    "language_info": {
      "name": "python"
    }
  },
  "cells": [
    {
      "cell_type": "code",
      "source": [
        "import numpy as np"
      ],
      "metadata": {
        "id": "owuyCqSJofLn"
      },
      "execution_count": 2,
      "outputs": []
    },
    {
      "cell_type": "code",
      "execution_count": 3,
      "metadata": {
        "id": "w1MTECeiluV2"
      },
      "outputs": [],
      "source": [
        "data_file='/content/makeSenseOfCensus.csv'"
      ]
    },
    {
      "cell_type": "code",
      "source": [
        "data = np.genfromtxt(data_file, delimiter=\",\",skip_header=1)\n",
        "\n",
        "# printing the data\n",
        "\n",
        "print(\"\\nData: \\n\\n\", data)\n",
        "\n",
        "print(\"\\nType of data: \\n\\n\", type(data))\n",
        "\n",
        "#step 2 Append 'new_record' (given) to 'data' using \"np.concatenate()\"¶\n",
        "new_record = [[50,9,4,1,0,0,40,0]]\n",
        "new_data = np.concatenate((data,new_record),axis=0)\n",
        "print(new_data)\n",
        "\n",
        "\n"
      ],
      "metadata": {
        "colab": {
          "base_uri": "https://localhost:8080/"
        },
        "id": "ydLQQrlVoYkb",
        "outputId": "10bf3c84-3101-4df5-e0f4-81bb35e9612d"
      },
      "execution_count": 12,
      "outputs": [
        {
          "output_type": "stream",
          "name": "stdout",
          "text": [
            "\n",
            "Data: \n",
            "\n",
            " [[39. 13.  4. ...  0. 40.  0.]\n",
            " [50. 13.  4. ...  0. 13.  0.]\n",
            " [38.  9.  4. ...  0. 40.  0.]\n",
            " ...\n",
            " [48. 13.  4. ...  0. 58.  1.]\n",
            " [40. 10.  4. ...  0. 40.  0.]\n",
            " [39. 13.  4. ...  0. 50.  1.]]\n",
            "\n",
            "Type of data: \n",
            "\n",
            " <class 'numpy.ndarray'>\n",
            "[[39. 13.  4. ...  0. 40.  0.]\n",
            " [50. 13.  4. ...  0. 13.  0.]\n",
            " [38.  9.  4. ...  0. 40.  0.]\n",
            " ...\n",
            " [40. 10.  4. ...  0. 40.  0.]\n",
            " [39. 13.  4. ...  0. 50.  1.]\n",
            " [50.  9.  4. ...  0. 40.  0.]]\n"
          ]
        }
      ]
    },
    {
      "cell_type": "markdown",
      "source": [
        "**step** 3 Check if it's a young country or old country"
      ],
      "metadata": {
        "id": "P44JvfNmxpeO"
      }
    },
    {
      "cell_type": "code",
      "source": [
        "\n",
        "\n",
        "age = np.array(new_data[:,0], dtype='int64')\n",
        "print(age)\n"
      ],
      "metadata": {
        "colab": {
          "base_uri": "https://localhost:8080/"
        },
        "id": "8atbNiCIsw-L",
        "outputId": "d610c9fb-3442-479b-a8ab-58e0923ceb25"
      },
      "execution_count": 37,
      "outputs": [
        {
          "output_type": "stream",
          "name": "stdout",
          "text": [
            "[39 50 38 ... 40 39 50]\n"
          ]
        }
      ]
    },
    {
      "cell_type": "code",
      "source": [
        "max_age= age.max()\n",
        "print(max_age)"
      ],
      "metadata": {
        "colab": {
          "base_uri": "https://localhost:8080/"
        },
        "id": "E4EdWqyov9dB",
        "outputId": "183b7b64-5074-45d3-f877-31701856b1a0"
      },
      "execution_count": 29,
      "outputs": [
        {
          "output_type": "stream",
          "name": "stdout",
          "text": [
            "90\n"
          ]
        }
      ]
    },
    {
      "cell_type": "code",
      "source": [
        "min_age= age.min()\n",
        "print(min_age)"
      ],
      "metadata": {
        "colab": {
          "base_uri": "https://localhost:8080/"
        },
        "id": "XeTmGHL7wHPv",
        "outputId": "e0062d14-a27b-4602-e662-936321433d3f"
      },
      "execution_count": 30,
      "outputs": [
        {
          "output_type": "stream",
          "name": "stdout",
          "text": [
            "17\n"
          ]
        }
      ]
    },
    {
      "cell_type": "code",
      "source": [
        "age_mean = age.mean()\n",
        "print(age_mean)"
      ],
      "metadata": {
        "colab": {
          "base_uri": "https://localhost:8080/"
        },
        "id": "5uOusftwwQmi",
        "outputId": "8ad24d0f-c488-4adc-fd91-03cb9590a82f"
      },
      "execution_count": 34,
      "outputs": [
        {
          "output_type": "stream",
          "name": "stdout",
          "text": [
            "38.06293706293706\n"
          ]
        }
      ]
    },
    {
      "cell_type": "code",
      "source": [
        "age_std= np.std(age)\n",
        "print(age_std)"
      ],
      "metadata": {
        "colab": {
          "base_uri": "https://localhost:8080/"
        },
        "id": "sXF6AN57xAoC",
        "outputId": "04777fde-7a97-408d-ff76-79bc122e69e3"
      },
      "execution_count": 35,
      "outputs": [
        {
          "output_type": "stream",
          "name": "stdout",
          "text": [
            "13.341478176165857\n"
          ]
        }
      ]
    },
    {
      "cell_type": "markdown",
      "source": [
        "Step 4: Let's check the country's race distribution to identify the **minorities**"
      ],
      "metadata": {
        "id": "FHCvqhZvxh7h"
      }
    },
    {
      "cell_type": "code",
      "source": [
        "Race= np.array(new_data[:,2], dtype='int64')\n",
        "print(Race)\n",
        "print(len(Race))\n"
      ],
      "metadata": {
        "colab": {
          "base_uri": "https://localhost:8080/"
        },
        "id": "iHFfIEBvxkX4",
        "outputId": "f4b1b884-75f3-4405-f4c5-a05b4397c467"
      },
      "execution_count": 50,
      "outputs": [
        {
          "output_type": "stream",
          "name": "stdout",
          "text": [
            "[4 4 4 ... 4 4 4]\n",
            "1001\n"
          ]
        }
      ]
    },
    {
      "cell_type": "code",
      "source": [
        "race_0=new_data[Race==0]\n",
        "race_1=new_data[Race==1]\n",
        "race_2=new_data[Race==2]\n",
        "race_3=new_data[Race==3]\n",
        "race_4=new_data[Race==4]\n"
      ],
      "metadata": {
        "id": "ZlscXjze3g1O"
      },
      "execution_count": 62,
      "outputs": []
    },
    {
      "cell_type": "code",
      "source": [
        "race_0"
      ],
      "metadata": {
        "colab": {
          "base_uri": "https://localhost:8080/"
        },
        "id": "kHqoWslkzsZF",
        "outputId": "d9c7e12a-b8d7-4ae9-c19b-3a41bfcb2b06"
      },
      "execution_count": 66,
      "outputs": [
        {
          "output_type": "execute_result",
          "data": {
            "text/plain": [
              "array([[34.,  4.,  0.,  1.,  0.,  0., 45.,  0.],\n",
              "       [35., 10.,  0.,  0.,  0.,  0., 40.,  0.],\n",
              "       [60.,  6.,  0.,  0.,  0.,  0., 10.,  0.],\n",
              "       [51.,  9.,  0.,  1.,  0.,  0., 40.,  0.],\n",
              "       [25., 10.,  0.,  0.,  0.,  0., 20.,  0.],\n",
              "       [20.,  9.,  0.,  1.,  0.,  0., 48.,  0.],\n",
              "       [23., 10.,  0.,  0.,  0.,  0., 25.,  0.],\n",
              "       [29.,  9.,  0.,  1.,  0.,  0., 40.,  0.],\n",
              "       [27., 12.,  0.,  1.,  0.,  0., 40.,  0.],\n",
              "       [31., 12.,  0.,  0.,  0.,  0., 40.,  0.]])"
            ]
          },
          "metadata": {},
          "execution_count": 66
        }
      ]
    },
    {
      "cell_type": "code",
      "source": [
        "race_1"
      ],
      "metadata": {
        "id": "s1tzQGtE3ueI"
      },
      "execution_count": null,
      "outputs": []
    },
    {
      "cell_type": "code",
      "source": [
        "race_2\n",
        "race_3\n",
        "race_4"
      ],
      "metadata": {
        "colab": {
          "base_uri": "https://localhost:8080/"
        },
        "id": "2bqvCjuQ7h9e",
        "outputId": "09e19197-71f2-4810-d3cb-8055a6066e13"
      },
      "execution_count": 70,
      "outputs": [
        {
          "output_type": "execute_result",
          "data": {
            "text/plain": [
              "array([[39., 13.,  4., ...,  0., 40.,  0.],\n",
              "       [50., 13.,  4., ...,  0., 13.,  0.],\n",
              "       [38.,  9.,  4., ...,  0., 40.,  0.],\n",
              "       ...,\n",
              "       [40., 10.,  4., ...,  0., 40.,  0.],\n",
              "       [39., 13.,  4., ...,  0., 50.,  1.],\n",
              "       [50.,  9.,  4., ...,  0., 40.,  0.]])"
            ]
          },
          "metadata": {},
          "execution_count": 70
        }
      ]
    },
    {
      "cell_type": "code",
      "source": [
        "len_0=len(race_0)\n",
        "print(len_0)\n",
        "len_1=len(race_1)\n",
        "print(len_1)\n",
        "len_2=len(race_2)\n",
        "print(len_2)\n",
        "len_3=len(race_3)\n",
        "print(len_3)\n",
        "len_4=len(race_4)\n",
        "print(len_4)"
      ],
      "metadata": {
        "colab": {
          "base_uri": "https://localhost:8080/"
        },
        "id": "S2fUxER77qOD",
        "outputId": "b9c5d9b8-17d2-4e7c-b8eb-871baeff1687"
      },
      "execution_count": 80,
      "outputs": [
        {
          "output_type": "stream",
          "name": "stdout",
          "text": [
            "10\n",
            "27\n",
            "110\n",
            "6\n",
            "848\n"
          ]
        }
      ]
    },
    {
      "cell_type": "code",
      "source": [
        "min_num_citizens= min(len_0,len_1,len_2,len_3,len_4)\n",
        "print(\"Race with the minimum no. of citizens is \",min_num_citizens)"
      ],
      "metadata": {
        "colab": {
          "base_uri": "https://localhost:8080/"
        },
        "id": "z6kCsNjC8hvo",
        "outputId": "f375f6f7-bda1-4bc9-d1e0-19948bf7e645"
      },
      "execution_count": 83,
      "outputs": [
        {
          "output_type": "stream",
          "name": "stdout",
          "text": [
            "Race with the minimum no. of citizens is  6\n"
          ]
        }
      ]
    },
    {
      "cell_type": "markdown",
      "source": [
        "Step 5: As per govt. records citizens above 60 should not work more than 25 hours a week. Let us check if the policy is in **place**"
      ],
      "metadata": {
        "id": "oyiqI2Df9kH-"
      }
    },
    {
      "cell_type": "code",
      "source": [
        "age=new_data[:,0]\n",
        "age"
      ],
      "metadata": {
        "colab": {
          "base_uri": "https://localhost:8080/"
        },
        "id": "GJP94r_eIG-W",
        "outputId": "6d60ce81-3ca8-4989-8350-bd17fd89e1a6"
      },
      "execution_count": 111,
      "outputs": [
        {
          "output_type": "execute_result",
          "data": {
            "text/plain": [
              "array([39., 50., 38., ..., 40., 39., 50.])"
            ]
          },
          "metadata": {},
          "execution_count": 111
        }
      ]
    },
    {
      "cell_type": "code",
      "source": [
        "senior_citizens = new_data[age>60] \n",
        "senior_citizens_len=len(senior_citizens)\n",
        "senior_citizens_len\n"
      ],
      "metadata": {
        "colab": {
          "base_uri": "https://localhost:8080/"
        },
        "id": "7u0i2_Xp_sIV",
        "outputId": "04278c3e-f3b2-4c95-d560-abf9eb366f90"
      },
      "execution_count": 115,
      "outputs": [
        {
          "output_type": "execute_result",
          "data": {
            "text/plain": [
              "61"
            ]
          },
          "metadata": {},
          "execution_count": 115
        }
      ]
    },
    {
      "cell_type": "code",
      "source": [
        "working_hours_sum =np.sum(senior_citizens[:,6])\n",
        "print(working_hours_sum)"
      ],
      "metadata": {
        "colab": {
          "base_uri": "https://localhost:8080/"
        },
        "id": "NUDeQEpS-5cl",
        "outputId": "fa839937-3e45-4293-d02f-53b63e59b11b"
      },
      "execution_count": 119,
      "outputs": [
        {
          "output_type": "stream",
          "name": "stdout",
          "text": [
            "1917.0\n"
          ]
        }
      ]
    },
    {
      "cell_type": "code",
      "source": [
        "avg_working_hours = np.divide(working_hours_sum,senior_citizens_len)\n",
        "print(int(avg_working_hours))"
      ],
      "metadata": {
        "colab": {
          "base_uri": "https://localhost:8080/"
        },
        "id": "nbKs0ap8AWMA",
        "outputId": "f6b216a1-a44c-46e8-e7e6-d7f426e56779"
      },
      "execution_count": 121,
      "outputs": [
        {
          "output_type": "stream",
          "name": "stdout",
          "text": [
            "31\n"
          ]
        }
      ]
    },
    {
      "cell_type": "markdown",
      "source": [
        "**The policy is not in place because the average working hours > 25**"
      ],
      "metadata": {
        "id": "19yw6KlWJvN6"
      }
    },
    {
      "cell_type": "markdown",
      "source": [
        "Step 6: Let's check that higher educated people have better pay in general.**bold text**"
      ],
      "metadata": {
        "id": "PtrRHfjwBpYV"
      }
    },
    {
      "cell_type": "code",
      "source": [
        "high = new_data[new_data[:,1]>10] #?????????\n",
        "print(high)\n",
        "print('------')\n",
        "low= new_data[new_data[:,1]<=10]\n",
        "print(low)"
      ],
      "metadata": {
        "colab": {
          "base_uri": "https://localhost:8080/"
        },
        "id": "m4qwoqGPBREI",
        "outputId": "d7441ed8-7217-4967-a71c-ce7c483dc3cc"
      },
      "execution_count": 106,
      "outputs": [
        {
          "output_type": "stream",
          "name": "stdout",
          "text": [
            "[[39. 13.  4. ...  0. 40.  0.]\n",
            " [50. 13.  4. ...  0. 13.  0.]\n",
            " [28. 13.  2. ...  0. 40.  0.]\n",
            " ...\n",
            " [45. 14.  4. ...  0. 45.  0.]\n",
            " [48. 13.  4. ...  0. 58.  1.]\n",
            " [39. 13.  4. ...  0. 50.  1.]]\n",
            "------\n",
            "[[38.  9.  4. ...  0. 40.  0.]\n",
            " [53.  7.  2. ...  0. 40.  0.]\n",
            " [49.  5.  2. ...  0. 16.  0.]\n",
            " ...\n",
            " [56.  9.  4. ...  0. 55.  1.]\n",
            " [40. 10.  4. ...  0. 40.  0.]\n",
            " [50.  9.  4. ...  0. 40.  0.]]\n"
          ]
        }
      ]
    },
    {
      "cell_type": "code",
      "source": [
        "avg_pay_high =high[:,7]\n",
        "print(avg_pay_high.mean())\n",
        "avg_pay_low = low[:,7]\n",
        "print(avg_pay_low.mean())"
      ],
      "metadata": {
        "colab": {
          "base_uri": "https://localhost:8080/"
        },
        "id": "H13BVtuhDZ0U",
        "outputId": "a4f8f822-f460-4377-f126-1d8cf80b0d89"
      },
      "execution_count": 107,
      "outputs": [
        {
          "output_type": "stream",
          "name": "stdout",
          "text": [
            "0.42813455657492355\n",
            "0.13649851632047477\n"
          ]
        }
      ]
    },
    {
      "cell_type": "code",
      "source": [
        ""
      ],
      "metadata": {
        "id": "QJxAHxIsHYzu"
      },
      "execution_count": null,
      "outputs": []
    }
  ]
}